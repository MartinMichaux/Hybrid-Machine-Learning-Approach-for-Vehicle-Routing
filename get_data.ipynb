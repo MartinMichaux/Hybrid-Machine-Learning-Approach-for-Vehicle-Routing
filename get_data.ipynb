{
 "cells": [
  {
   "cell_type": "code",
   "execution_count": 7,
   "metadata": {},
   "outputs": [],
   "source": [
    "from ortools.constraint_solver import routing_enums_pb2\n",
    "from ortools.constraint_solver import pywrapcp\n",
    "\n",
    "import random\n",
    "import csv"
   ]
  },
  {
   "cell_type": "code",
   "execution_count": 2,
   "metadata": {},
   "outputs": [],
   "source": [
    "def print_solution1(data, manager, routing, solution):\n",
    "    \"\"\"Prints solution on console.\"\"\"\n",
    "    print(f'Objective: {solution.ObjectiveValue()}')\n",
    "    max_route_distance = 0\n",
    "    for vehicle_id in range(data['num_vehicles']):\n",
    "        index = routing.Start(vehicle_id)\n",
    "        plan_output = 'Route for vehicle {}:\\n'.format(vehicle_id)\n",
    "        route_distance = 0\n",
    "        while not routing.IsEnd(index):\n",
    "            node_index = manager.IndexToNode(index)\n",
    "            location_coord = data['locations'][node_index]\n",
    "            plan_output += ' ({},{}) -> '.format(location_coord[0], location_coord[1])\n",
    "            previous_index = index\n",
    "            index = solution.Value(routing.NextVar(index))\n",
    "            route_distance += routing.GetArcCostForVehicle(previous_index, index, vehicle_id)\n",
    "        plan_output += 'Distance of the route: {}m\\n'.format(route_distance)\n",
    "        print(plan_output)\n",
    "        max_route_distance = max(route_distance, max_route_distance)\n",
    "    print('Maximum of the route distances: {}m'.format(max_route_distance))\n"
   ]
  },
  {
   "cell_type": "code",
   "execution_count": 3,
   "metadata": {},
   "outputs": [],
   "source": [
    "def generate_data_model(grid_size, num_locations, num_vehicles,init_depot):\n",
    "    \"\"\"Generates the data for the problem with a grid and randomly placed locations.\"\"\"\n",
    "    data = {}\n",
    "    \n",
    "    # Generate the grid\n",
    "    grid = [(x, y) for x in range(grid_size) for y in range(grid_size)]\n",
    "    \n",
    "    # Randomly select locations from the grid\n",
    "    locations = init_depot + random.sample(grid, num_locations-1)\n",
    "    \n",
    "    # Calculate distances between locations\n",
    "    distance_matrix = []\n",
    "    for i in range(num_locations):\n",
    "        row = []\n",
    "        for j in range(num_locations):\n",
    "            if i == j:\n",
    "                row.append(0)\n",
    "            else:\n",
    "                dist = abs(locations[i][0] - locations[j][0]) + abs(locations[i][1] - locations[j][1])\n",
    "                row.append(dist)\n",
    "        distance_matrix.append(row)\n",
    "    \n",
    "    data['locations'] = locations\n",
    "    data['distance_matrix'] = distance_matrix\n",
    "    data['num_vehicles'] = num_vehicles\n",
    "    data['depot'] = 0  # Assuming the depot is located at index 0\n",
    "    \n",
    "    return data"
   ]
  },
  {
   "cell_type": "code",
   "execution_count": 4,
   "metadata": {},
   "outputs": [],
   "source": [
    "def initialize(data):\n",
    "    # Create the routing index manager.\n",
    "    manager = pywrapcp.RoutingIndexManager(len(data['distance_matrix']),\n",
    "                                            data['num_vehicles'], data['depot'])\n",
    "\n",
    "    # Create Routing Model.\n",
    "    routing = pywrapcp.RoutingModel(manager)\n",
    "\n",
    "\n",
    "    # Create and register a transit callback.\n",
    "    def distance_callback(from_index, to_index):\n",
    "        \"\"\"Returns the distance between the two nodes.\"\"\"\n",
    "        # Convert from routing variable Index to distance matrix NodeIndex.\n",
    "        from_node = manager.IndexToNode(from_index)\n",
    "        to_node = manager.IndexToNode(to_index)\n",
    "        return data['distance_matrix'][from_node][to_node]\n",
    "\n",
    "    transit_callback_index = routing.RegisterTransitCallback(distance_callback)\n",
    "\n",
    "    # Define cost of each arc.\n",
    "    routing.SetArcCostEvaluatorOfAllVehicles(transit_callback_index)\n",
    "\n",
    "    # Add Distance constraint.\n",
    "    dimension_name = 'Distance'\n",
    "    routing.AddDimension(\n",
    "        transit_callback_index,\n",
    "        0,  # no slack\n",
    "        5000,  # vehicle maximum travel distance\n",
    "        True,  # start cumul to zero\n",
    "        dimension_name)\n",
    "    distance_dimension = routing.GetDimensionOrDie(dimension_name)\n",
    "    distance_dimension.SetGlobalSpanCostCoefficient(100)\n",
    "    \n",
    "    return routing,manager"
   ]
  },
  {
   "cell_type": "code",
   "execution_count": 5,
   "metadata": {},
   "outputs": [],
   "source": [
    "def convert_to_initial_solution(solution, manager, routing, data):\n",
    "    initial_routes = []\n",
    "    for vehicle_id in range(data['num_vehicles']):\n",
    "        index = routing.Start(vehicle_id)\n",
    "        route = []\n",
    "        while not routing.IsEnd(index):\n",
    "            node_index = manager.IndexToNode(index)\n",
    "            if node_index != 0:\n",
    "                route.append(data['locations'][node_index])\n",
    "            index = solution.Value(routing.NextVar(index))\n",
    "        initial_routes.append(route)\n",
    "    return initial_routes"
   ]
  },
  {
   "cell_type": "code",
   "execution_count": 72,
   "metadata": {},
   "outputs": [],
   "source": [
    "# Instantiate the data problem.\n",
    "grid_size=100\n",
    "random_locations=50\n",
    "num_vehicles=5\n",
    "init_depot = [(50,50)]\n",
    "\n",
    "data = generate_data_model(grid_size,random_locations,num_vehicles,init_depot)"
   ]
  },
  {
   "cell_type": "code",
   "execution_count": 73,
   "metadata": {},
   "outputs": [],
   "source": [
    "routing,manager = initialize(data)\n",
    "\n",
    "# Setting first solution heuristic.\n",
    "search_parameters = pywrapcp.DefaultRoutingSearchParameters()\n",
    "search_parameters.first_solution_strategy = routing_enums_pb2.FirstSolutionStrategy.PATH_CHEAPEST_ARC\n",
    "search_parameters.local_search_metaheuristic = (\n",
    "    routing_enums_pb2.LocalSearchMetaheuristic.GUIDED_LOCAL_SEARCH)\n",
    "search_parameters.time_limit.seconds = 100  # Set a time limit for the solver.\n",
    "\n",
    "# Solve the problem.\n",
    "solution = routing.SolveWithParameters(search_parameters)"
   ]
  },
  {
   "cell_type": "code",
   "execution_count": 102,
   "metadata": {},
   "outputs": [
    {
     "name": "stdout",
     "output_type": "stream",
     "text": [
      "Objective: 100866\n",
      "Route for vehicle 0:\n",
      " (250,250) ->  (280,353) ->  (324,462) ->  (347,470) ->  (347,431) ->  (420,429) ->  (457,351) ->  (425,305) ->  (359,335) ->  (295,336) -> Distance of the route: 916m\n",
      "\n",
      "Route for vehicle 1:\n",
      " (250,250) ->  (302,200) ->  (328,172) ->  (361,159) ->  (395,82) ->  (457,0) ->  (383,8) ->  (385,23) ->  (270,29) ->  (236,98) ->  (228,145) ->  (231,213) -> Distance of the route: 962m\n",
      "\n",
      "Route for vehicle 2:\n",
      " (250,250) ->  (210,198) ->  (179,169) ->  (163,168) ->  (152,144) ->  (121,102) ->  (102,69) ->  (71,48) ->  (24,19) ->  (43,37) ->  (45,218) ->  (81,248) ->  (147,232) -> Distance of the route: 946m\n",
      "\n",
      "Route for vehicle 3:\n",
      " (250,250) ->  (250,291) ->  (183,358) ->  (180,446) ->  (137,479) ->  (144,358) ->  (47,351) ->  (45,340) ->  (96,274) ->  (124,267) -> Distance of the route: 882m\n",
      "\n",
      "Route for vehicle 4:\n",
      " (250,250) ->  (296,231) ->  (451,161) ->  (456,130) ->  (459,51) ->  (486,13) ->  (491,26) ->  (493,26) ->  (473,152) -> Distance of the route: 960m\n",
      "\n",
      "Maximum of the route distances: 962m\n",
      "[[(280, 353), (324, 462), (347, 470), (347, 431), (420, 429), (457, 351), (425, 305), (359, 335), (295, 336)], [(302, 200), (328, 172), (361, 159), (395, 82), (457, 0), (383, 8), (385, 23), (270, 29), (236, 98), (228, 145), (231, 213)], [(210, 198), (179, 169), (163, 168), (152, 144), (121, 102), (102, 69), (71, 48), (24, 19), (43, 37), (45, 218), (81, 248), (147, 232)], [(250, 291), (183, 358), (180, 446), (137, 479), (144, 358), (47, 351), (45, 340), (96, 274), (124, 267)], [(296, 231), (451, 161), (456, 130), (459, 51), (486, 13), (491, 26), (493, 26), (473, 152)]]\n"
     ]
    }
   ],
   "source": [
    "# Print solution on console.\n",
    "if solution:\n",
    "    print_solution1(data, manager, routing, solution)\n",
    "else:\n",
    "    print('No solution found!')\n",
    "    \n",
    "convert_solution = convert_to_initial_solution(solution, manager, routing,data)\n",
    "print(convert_solution)"
   ]
  },
  {
   "attachments": {},
   "cell_type": "markdown",
   "metadata": {},
   "source": [
    "## Visualize routes solutions"
   ]
  },
  {
   "cell_type": "code",
   "execution_count": 9,
   "metadata": {},
   "outputs": [
    {
     "data": {
      "image/png": "[encoded data removed]",
      "text/plain": [
       "<Figure size 640x480 with 1 Axes>"
      ]
     },
     "metadata": {},
     "output_type": "display_data"
    }
   ],
   "source": [
    "import matplotlib.pyplot as plt\n",
    "\n",
    "def draw_solution(data, manager, routing, solution):\n",
    "    \"\"\"Draws the solution on a graph with color-coded routes for each vehicle.\"\"\"\n",
    "    # Create a figure and axis\n",
    "    fig, ax = plt.subplots()\n",
    "\n",
    "    # Create a list of colors for each vehicle\n",
    "    colors = ['r', 'g', 'b', 'c', 'm', 'y', 'k']\n",
    "\n",
    "    # Plot the nodes\n",
    "    for node in range(manager.GetNumberOfNodes()):\n",
    "        if node == data['depot']:\n",
    "            ax.plot(data['locations'][node][0], data['locations'][node][1], 'go', markersize=10)  # Depot\n",
    "        else:\n",
    "            ax.plot(data['locations'][node][0], data['locations'][node][1], 'ro')  # Customers\n",
    "\n",
    "    # Plot the routes for each vehicle\n",
    "    for vehicle_id in range(data['num_vehicles']):\n",
    "        index = routing.Start(vehicle_id)\n",
    "        route_x = [data['locations'][manager.IndexToNode(index)][0]]\n",
    "        route_y = [data['locations'][manager.IndexToNode(index)][1]]\n",
    "        while not routing.IsEnd(index):\n",
    "            index = solution.Value(routing.NextVar(index))\n",
    "            route_x.append(data['locations'][manager.IndexToNode(index)][0])\n",
    "            route_y.append(data['locations'][manager.IndexToNode(index)][1])\n",
    "        # Get the color for the current vehicle\n",
    "        color = colors[vehicle_id % len(colors)]\n",
    "        # Plot the route with the color for the current vehicle\n",
    "        ax.plot(route_x, route_y, color=color, linewidth=2)\n",
    "\n",
    "    # Set axis labels and title\n",
    "    ax.set_xlabel('X')\n",
    "    ax.set_ylabel('Y')\n",
    "    ax.set_title('Vehicle Routing Problem Solution')\n",
    "\n",
    "    # Show the plot\n",
    "    plt.show()\n",
    "\n",
    "# Example usage\n",
    "draw_solution(data, manager, routing, solution)"
   ]
  },
  {
   "attachments": {},
   "cell_type": "markdown",
   "metadata": {},
   "source": [
    "## Automate the process"
   ]
  },
  {
   "cell_type": "code",
   "execution_count": 8,
   "metadata": {},
   "outputs": [
    {
     "name": "stdout",
     "output_type": "stream",
     "text": [
      "Iteration 0\n",
      "Iteration 1\n",
      "Iteration 2\n",
      "Iteration 3\n",
      "Iteration 4\n",
      "Iteration 5\n",
      "Iteration 6\n",
      "Iteration 7\n",
      "Iteration 8\n",
      "Iteration 9\n"
     ]
    }
   ],
   "source": [
    "nbr_iterations = 10\n",
    "\n",
    "# Instantiate the data problem.\n",
    "grid_size=100\n",
    "random_locations=50\n",
    "num_vehicles=5\n",
    "init_depot = [(50,50)]\n",
    "\n",
    "time_limit = 100\n",
    "\n",
    "file_path = 'data\\\\'\n",
    "file_name='test'\n",
    "\n",
    "# Create columns in file\n",
    "with open((file_path+file_name), 'w', newline='') as csvfile:\n",
    "    writer = csv.writer(csvfile)    \n",
    "    writer.writerow(['x1', 'x2','v'])\n",
    "\n",
    "    for i in range(nbr_iterations):\n",
    "        print('Iteration',i)\n",
    "        \n",
    "        # Generate data and initialize CP solver\n",
    "        data = generate_data_model(grid_size,random_locations,num_vehicles,init_depot)\n",
    "        routing,manager = initialize(data)\n",
    "\n",
    "        # Setting heuristics\n",
    "        search_parameters = pywrapcp.DefaultRoutingSearchParameters()\n",
    "        search_parameters.first_solution_strategy = routing_enums_pb2.FirstSolutionStrategy.PATH_CHEAPEST_ARC\n",
    "        search_parameters.local_search_metaheuristic = (\n",
    "            routing_enums_pb2.LocalSearchMetaheuristic.GUIDED_LOCAL_SEARCH)\n",
    "        search_parameters.time_limit.seconds = time_limit  # Set a time limit for the solver.\n",
    "\n",
    "        # Solve the problem\n",
    "        solution = routing.SolveWithParameters(search_parameters)\n",
    "        convert_solution = convert_to_initial_solution(solution, manager, routing,data)\n",
    "        \n",
    "        # Save solution\n",
    "        locations = data['locations']\n",
    "        for i,vehicle_route in enumerate(convert_solution):\n",
    "            for coord in vehicle_route:\n",
    "                writer.writerow([coord[0], coord[1], i])\n",
    "        writer.writerow([])  # Add a line space\n"
   ]
  }
 ],
 "metadata": {
  "kernelspec": {
   "display_name": "base",
   "language": "python",
   "name": "python3"
  },
  "language_info": {
   "codemirror_mode": {
    "name": "ipython",
    "version": 3
   },
   "file_extension": ".py",
   "mimetype": "text/x-python",
   "name": "python",
   "nbconvert_exporter": "python",
   "pygments_lexer": "ipython3",
   "version": "3.9.12"
  },
  "orig_nbformat": 4
 },
 "nbformat": 4,
 "nbformat_minor": 2
}
