{
  "cells": [
    {
      "cell_type": "code",
      "execution_count": 1,
      "metadata": {
        "id": "Q_-k0TKu2f5I"
      },
      "outputs": [],
      "source": [
        "\"\"\"Simple Vehicles Routing Problem (VRP).\n",
        "\n",
        "   This is a sample using the routing library python wrapper to solve a VRP\n",
        "   problem.\n",
        "   A description of the problem can be found here:\n",
        "   http://en.wikipedia.org/wiki/Vehicle_routing_problem.\n",
        "\n",
        "   Distances are in meters.\n",
        "\"\"\"\n",
        "\n",
        "from ortools.constraint_solver import routing_enums_pb2\n",
        "from ortools.constraint_solver import pywrapcp\n",
        "\n",
        "\n",
        "def create_data_model():\n",
        "    \"\"\"Stores the data for the problem.\"\"\"\n",
        "    data = {}\n",
        "    data['distance_matrix'] = [\n",
        "        [\n",
        "            0, 548, 776, 696, 582, 274, 502, 194, 308, 194, 536, 502, 388, 354,\n",
        "            468, 776, 662\n",
        "        ],\n",
        "        [\n",
        "            548, 0, 684, 308, 194, 502, 730, 354, 696, 742, 1084, 594, 480, 674,\n",
        "            1016, 868, 1210\n",
        "        ],\n",
        "        [\n",
        "            776, 684, 0, 992, 878, 502, 274, 810, 468, 742, 400, 1278, 1164,\n",
        "            1130, 788, 1552, 754\n",
        "        ],\n",
        "        [\n",
        "            696, 308, 992, 0, 114, 650, 878, 502, 844, 890, 1232, 514, 628, 822,\n",
        "            1164, 560, 1358\n",
        "        ],\n",
        "        [\n",
        "            582, 194, 878, 114, 0, 536, 764, 388, 730, 776, 1118, 400, 514, 708,\n",
        "            1050, 674, 1244\n",
        "        ],\n",
        "        [\n",
        "            274, 502, 502, 650, 536, 0, 228, 308, 194, 240, 582, 776, 662, 628,\n",
        "            514, 1050, 708\n",
        "        ],\n",
        "        [\n",
        "            502, 730, 274, 878, 764, 228, 0, 536, 194, 468, 354, 1004, 890, 856,\n",
        "            514, 1278, 480\n",
        "        ],\n",
        "        [\n",
        "            194, 354, 810, 502, 388, 308, 536, 0, 342, 388, 730, 468, 354, 320,\n",
        "            662, 742, 856\n",
        "        ],\n",
        "        [\n",
        "            308, 696, 468, 844, 730, 194, 194, 342, 0, 274, 388, 810, 696, 662,\n",
        "            320, 1084, 514\n",
        "        ],\n",
        "        [\n",
        "            194, 742, 742, 890, 776, 240, 468, 388, 274, 0, 342, 536, 422, 388,\n",
        "            274, 810, 468\n",
        "        ],\n",
        "        [\n",
        "            536, 1084, 400, 1232, 1118, 582, 354, 730, 388, 342, 0, 878, 764,\n",
        "            730, 388, 1152, 354\n",
        "        ],\n",
        "        [\n",
        "            502, 594, 1278, 514, 400, 776, 1004, 468, 810, 536, 878, 0, 114,\n",
        "            308, 650, 274, 844\n",
        "        ],\n",
        "        [\n",
        "            388, 480, 1164, 628, 514, 662, 890, 354, 696, 422, 764, 114, 0, 194,\n",
        "            536, 388, 730\n",
        "        ],\n",
        "        [\n",
        "            354, 674, 1130, 822, 708, 628, 856, 320, 662, 388, 730, 308, 194, 0,\n",
        "            342, 422, 536\n",
        "        ],\n",
        "        [\n",
        "            468, 1016, 788, 1164, 1050, 514, 514, 662, 320, 274, 388, 650, 536,\n",
        "            342, 0, 764, 194\n",
        "        ],\n",
        "        [\n",
        "            776, 868, 1552, 560, 674, 1050, 1278, 742, 1084, 810, 1152, 274,\n",
        "            388, 422, 764, 0, 798\n",
        "        ],\n",
        "        [\n",
        "            662, 1210, 754, 1358, 1244, 708, 480, 856, 514, 468, 354, 844, 730,\n",
        "            536, 194, 798, 0\n",
        "        ],\n",
        "    ]\n",
        "    data['num_vehicles'] = 4\n",
        "    data['depot'] = 0\n",
        "    return data\n",
        "\n",
        "\n",
        "def print_solution(data, manager, routing, solution):\n",
        "    \"\"\"Prints solution on console.\"\"\"\n",
        "    print(f'Objective: {solution.ObjectiveValue()}')\n",
        "    max_route_distance = 0\n",
        "    for vehicle_id in range(data['num_vehicles']):\n",
        "        index = routing.Start(vehicle_id)\n",
        "        plan_output = 'Route for vehicle {}:\\n'.format(vehicle_id)\n",
        "        route_distance = 0\n",
        "        while not routing.IsEnd(index):\n",
        "            plan_output += ' {} -> '.format(manager.IndexToNode(index))\n",
        "            previous_index = index\n",
        "            index = solution.Value(routing.NextVar(index))\n",
        "            route_distance += routing.GetArcCostForVehicle(\n",
        "                previous_index, index, vehicle_id)\n",
        "        plan_output += '{}\\n'.format(manager.IndexToNode(index))\n",
        "        plan_output += 'Distance of the route: {}m\\n'.format(route_distance)\n",
        "        print(plan_output)\n",
        "        max_route_distance = max(route_distance, max_route_distance)\n",
        "    print('Maximum of the route distances: {}m'.format(max_route_distance))"
      ]
    },
    {
      "attachments": {},
      "cell_type": "markdown",
      "metadata": {},
      "source": [
        "### Generate own data"
      ]
    },
    {
      "cell_type": "code",
      "execution_count": 2,
      "metadata": {},
      "outputs": [],
      "source": [
        "import random\n",
        "\n",
        "def generate_data_model(grid_size, num_locations, num_vehicles):\n",
        "    \"\"\"Generates the data for the problem with a grid and randomly placed locations.\"\"\"\n",
        "    data = {}\n",
        "    \n",
        "    # Generate the grid\n",
        "    grid = [(x, y) for x in range(grid_size) for y in range(grid_size)]\n",
        "    \n",
        "    # Randomly select locations from the grid\n",
        "    locations = random.sample(grid, num_locations)\n",
        "    \n",
        "    # Calculate distances between locations\n",
        "    distance_matrix = []\n",
        "    for i in range(num_locations):\n",
        "        row = []\n",
        "        for j in range(num_locations):\n",
        "            if i == j:\n",
        "                row.append(0)\n",
        "            else:\n",
        "                dist = abs(locations[i][0] - locations[j][0]) + abs(locations[i][1] - locations[j][1])\n",
        "                row.append(dist)\n",
        "        distance_matrix.append(row)\n",
        "    \n",
        "    data['distance_matrix'] = distance_matrix\n",
        "    data['num_vehicles'] = num_vehicles\n",
        "    data['depot'] = 0  # Assuming the depot is located at index 0\n",
        "    \n",
        "    return data"
      ]
    },
    {
      "attachments": {},
      "cell_type": "markdown",
      "metadata": {},
      "source": [
        "### Test code"
      ]
    },
    {
      "cell_type": "code",
      "execution_count": 3,
      "metadata": {},
      "outputs": [],
      "source": [
        "def initialize(data):\n",
        "    # Create the routing index manager.\n",
        "    manager = pywrapcp.RoutingIndexManager(len(data['distance_matrix']),\n",
        "                                            data['num_vehicles'], data['depot'])\n",
        "\n",
        "    # Create Routing Model.\n",
        "    routing = pywrapcp.RoutingModel(manager)\n",
        "\n",
        "\n",
        "    # Create and register a transit callback.\n",
        "    def distance_callback(from_index, to_index):\n",
        "        \"\"\"Returns the distance between the two nodes.\"\"\"\n",
        "        # Convert from routing variable Index to distance matrix NodeIndex.\n",
        "        from_node = manager.IndexToNode(from_index)\n",
        "        to_node = manager.IndexToNode(to_index)\n",
        "        return data['distance_matrix'][from_node][to_node]\n",
        "\n",
        "    transit_callback_index = routing.RegisterTransitCallback(distance_callback)\n",
        "\n",
        "    # Define cost of each arc.\n",
        "    routing.SetArcCostEvaluatorOfAllVehicles(transit_callback_index)\n",
        "\n",
        "    # Add Distance constraint.\n",
        "    dimension_name = 'Distance'\n",
        "    routing.AddDimension(\n",
        "        transit_callback_index,\n",
        "        0,  # no slack\n",
        "        5000,  # vehicle maximum travel distance\n",
        "        True,  # start cumul to zero\n",
        "        dimension_name)\n",
        "    distance_dimension = routing.GetDimensionOrDie(dimension_name)\n",
        "    distance_dimension.SetGlobalSpanCostCoefficient(100)\n",
        "    \n",
        "    return routing,manager"
      ]
    },
    {
      "attachments": {},
      "cell_type": "markdown",
      "metadata": {},
      "source": [
        "### Normal run"
      ]
    },
    {
      "cell_type": "code",
      "execution_count": 4,
      "metadata": {},
      "outputs": [],
      "source": [
        "# Instantiate the data problem.\n",
        "grid_size=100\n",
        "random_locations=100\n",
        "num_vehicles=3\n",
        "\n",
        "data = generate_data_model(grid_size,random_locations,num_vehicles)\n",
        "# data = create_data_model()"
      ]
    },
    {
      "cell_type": "code",
      "execution_count": 5,
      "metadata": {},
      "outputs": [
        {
          "name": "stdout",
          "output_type": "stream",
          "text": [
            "Objective: 42428\n",
            "Route for vehicle 0:\n",
            " 0 ->  61 ->  98 ->  93 ->  92 ->  94 ->  77 ->  69 ->  76 ->  44 ->  50 ->  64 ->  39 ->  29 ->  91 ->  33 ->  83 ->  74 ->  65 ->  23 ->  21 ->  46 ->  7 ->  68 ->  36 ->  8 ->  2 ->  62 ->  42 ->  37 ->  32 ->  27 ->  80 ->  34 ->  53 ->  59 ->  19 -> 0\n",
            "Distance of the route: 412m\n",
            "\n",
            "Route for vehicle 1:\n",
            " 0 ->  17 ->  81 ->  30 ->  82 ->  47 ->  10 ->  89 ->  67 ->  73 ->  15 ->  95 ->  4 ->  6 ->  58 ->  38 ->  72 ->  12 ->  45 ->  3 ->  75 ->  84 ->  97 ->  86 ->  66 ->  85 ->  11 ->  16 ->  22 ->  51 -> 0\n",
            "Distance of the route: 404m\n",
            "\n",
            "Route for vehicle 2:\n",
            " 0 ->  63 ->  90 ->  54 ->  99 ->  79 ->  35 ->  14 ->  55 ->  56 ->  49 ->  41 ->  9 ->  13 ->  25 ->  24 ->  71 ->  5 ->  96 ->  70 ->  40 ->  78 ->  87 ->  20 ->  1 ->  57 ->  52 ->  18 ->  88 ->  60 ->  26 ->  31 ->  48 ->  28 ->  43 -> 0\n",
            "Distance of the route: 412m\n",
            "\n",
            "Maximum of the route distances: 412m\n"
          ]
        }
      ],
      "source": [
        "routing,manager = initialize(data)\n",
        "\n",
        "# Setting first solution heuristic.\n",
        "search_parameters = pywrapcp.DefaultRoutingSearchParameters()\n",
        "search_parameters.first_solution_strategy = (\n",
        "    routing_enums_pb2.FirstSolutionStrategy.PATH_CHEAPEST_ARC)\n",
        "\n",
        "# Solve the problem.\n",
        "solution = routing.SolveWithParameters(search_parameters)\n",
        "\n",
        "# Print solution on console.\n",
        "if solution:\n",
        "    print_solution(data, manager, routing, solution)\n",
        "else:\n",
        "    print('No solution found!')"
      ]
    },
    {
      "attachments": {},
      "cell_type": "markdown",
      "metadata": {},
      "source": [
        "### Get the partial solution"
      ]
    },
    {
      "cell_type": "code",
      "execution_count": 6,
      "metadata": {
        "colab": {
          "base_uri": "https://localhost:8080/"
        },
        "id": "uvtqkXW32hIg",
        "outputId": "30dbc79a-5ec1-4fe2-cab6-c6f3b48d0493"
      },
      "outputs": [
        {
          "name": "stdout",
          "output_type": "stream",
          "text": [
            "Objective: 81918\n",
            "Route for vehicle 0:\n",
            " 0 ->  16 ->  85 ->  11 ->  86 ->  66 ->  97 ->  92 ->  94 ->  69 ->  52 ->  76 ->  45 ->  50 ->  64 ->  12 ->  38 ->  6 ->  67 ->  59 ->  53 ->  34 ->  80 ->  47 ->  82 ->  30 ->  81 ->  19 ->  17 ->  15 ->  73 ->  10 ->  8 ->  32 ->  27 ->  42 ->  33 ->  46 ->  23 ->  39 ->  87 ->  78 ->  40 ->  70 ->  20 ->  13 ->  9 ->  49 ->  14 ->  18 ->  88 ->  31 ->  26 ->  48 ->  93 ->  98 ->  61 ->  43 -> 0\n",
            "Distance of the route: 804m\n",
            "\n",
            "Route for vehicle 1:\n",
            " 0 ->  22 ->  51 -> 0\n",
            "Distance of the route: 42m\n",
            "\n",
            "Route for vehicle 2:\n",
            " 0 ->  63 ->  90 ->  54 ->  99 ->  75 ->  55 ->  56 ->  41 ->  24 ->  71 ->  5 ->  96 ->  57 ->  1 ->  29 ->  91 ->  83 ->  74 ->  65 ->  21 ->  7 ->  68 ->  36 ->  62 ->  37 ->  2 ->  89 ->  4 ->  58 ->  44 ->  3 ->  60 ->  84 ->  79 ->  35 ->  25 ->  72 ->  77 ->  95 ->  28 -> 0\n",
            "Distance of the route: 672m\n",
            "\n",
            "Maximum of the route distances: 804m\n"
          ]
        }
      ],
      "source": [
        "routing,manager = initialize(data)\n",
        "\n",
        "# Setting first solution heuristic.\n",
        "search_parameters = pywrapcp.DefaultRoutingSearchParameters()\n",
        "search_parameters.first_solution_strategy = (\n",
        "    routing_enums_pb2.FirstSolutionStrategy.PATH_CHEAPEST_ARC)\n",
        "\n",
        "search_parameters.time_limit.seconds = 1  # Example time limit in seconds\n",
        "search_parameters.lns_time_limit.seconds = 1  # Example local search time limit\n",
        "\n",
        "# Solve the problem.\n",
        "partial_solution = routing.SolveWithParameters(search_parameters)\n",
        "\n",
        "# Print solution on console.\n",
        "if partial_solution:\n",
        "    print_solution(data, manager, routing, partial_solution)\n",
        "else:\n",
        "    print('No solution found!')"
      ]
    },
    {
      "attachments": {},
      "cell_type": "markdown",
      "metadata": {},
      "source": [
        "### Method that returns the correct initial routes from a partial solution (estimation)"
      ]
    },
    {
      "cell_type": "code",
      "execution_count": 7,
      "metadata": {},
      "outputs": [],
      "source": [
        "def convert_to_initial_solution(solution, manager, routing):\n",
        "    initial_routes = []\n",
        "    for vehicle_id in range(data['num_vehicles']):\n",
        "        index = routing.Start(vehicle_id)\n",
        "        route = []\n",
        "        while not routing.IsEnd(index):\n",
        "            node_index = manager.IndexToNode(index)\n",
        "            if node_index != 0:\n",
        "                route.append(node_index)\n",
        "            index = solution.Value(routing.NextVar(index))\n",
        "        initial_routes.append(route)\n",
        "    return initial_routes"
      ]
    },
    {
      "attachments": {},
      "cell_type": "markdown",
      "metadata": {},
      "source": [
        "### Guided solver"
      ]
    },
    {
      "cell_type": "code",
      "execution_count": null,
      "metadata": {},
      "outputs": [
        {
          "ename": "",
          "evalue": "",
          "output_type": "error",
          "traceback": [
            "\u001b[1;31mCanceled future for execute_request message before replies were done"
          ]
        },
        {
          "ename": "",
          "evalue": "",
          "output_type": "error",
          "traceback": [
            "\u001b[1;31mThe Kernel crashed while executing code in the the current cell or a previous cell. Please review the code in the cell(s) to identify a possible cause of the failure. Click <a href='https://aka.ms/vscodeJupyterKernelCrash'>here</a> for more info. View Jupyter <a href='command:jupyter.viewOutput'>log</a> for further details."
          ]
        }
      ],
      "source": [
        "routing,manager = initialize(data)\n",
        "\n",
        "partial_solution_convert = convert_to_initial_solution(partial_solution, manager, routing)\n",
        "\n",
        "# Close model with the custom search parameters.\n",
        "search_parameters = pywrapcp.DefaultRoutingSearchParameters()\n",
        "search_parameters.first_solution_strategy = (\n",
        "    routing_enums_pb2.FirstSolutionStrategy.PATH_CHEAPEST_ARC)\n",
        "search_parameters.local_search_metaheuristic = (\n",
        "    routing_enums_pb2.LocalSearchMetaheuristic.GUIDED_LOCAL_SEARCH)\n",
        "\n",
        "routing.CloseModelWithParameters(search_parameters)\n",
        "\n",
        "# Get initial solution from routes after closing the model.\n",
        "initial_solution = routing.ReadAssignmentFromRoutes(partial_solution_convert, True)\n",
        "\n",
        "# Solve the problem.\n",
        "solution = routing.SolveFromAssignmentWithParameters(\n",
        "    initial_solution, search_parameters)\n",
        "\n",
        "# Print solution on console.\n",
        "if partial_solution:\n",
        "    print_solution(data, manager, routing, partial_solution)\n",
        "else:\n",
        "    print('No solution found!')"
      ]
    }
  ],
  "metadata": {
    "colab": {
      "provenance": []
    },
    "kernelspec": {
      "display_name": "Python 3",
      "name": "python3"
    },
    "language_info": {
      "codemirror_mode": {
        "name": "ipython",
        "version": 3
      },
      "file_extension": ".py",
      "mimetype": "text/x-python",
      "name": "python",
      "nbconvert_exporter": "python",
      "pygments_lexer": "ipython3",
      "version": "3.9.12"
    }
  },
  "nbformat": 4,
  "nbformat_minor": 0
}
