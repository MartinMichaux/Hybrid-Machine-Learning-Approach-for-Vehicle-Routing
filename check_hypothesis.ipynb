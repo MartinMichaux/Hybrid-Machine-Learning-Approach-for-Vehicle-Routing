{
  "cells": [
    {
      "cell_type": "code",
      "execution_count": 1,
      "metadata": {
        "id": "LhOQDbUg-Y8E"
      },
      "outputs": [],
      "source": [
        "import random\n",
        "\n",
        "def create_data_model(grid_size, num_locations, num_vehicles):\n",
        "    \"\"\"Generates the data for the problem with a grid and randomly placed locations.\"\"\"\n",
        "    data = {}\n",
        "    \n",
        "    # Generate the grid\n",
        "    grid = [(x, y) for x in range(grid_size) for y in range(grid_size)]\n",
        "    \n",
        "    # Randomly select locations from the grid\n",
        "    locations = random.sample(grid, num_locations)\n",
        "    \n",
        "    # Calculate distances between locations\n",
        "    distance_matrix = []\n",
        "    for i in range(num_locations):\n",
        "        row = []\n",
        "        for j in range(num_locations):\n",
        "            if i == j:\n",
        "                row.append(0)\n",
        "            else:\n",
        "                dist = abs(locations[i][0] - locations[j][0]) + abs(locations[i][1] - locations[j][1])\n",
        "                row.append(dist)\n",
        "        distance_matrix.append(row)\n",
        "    \n",
        "    data['distance_matrix'] = distance_matrix\n",
        "    data['num_vehicles'] = num_vehicles\n",
        "    data['depot'] = 0  # Assuming the depot is located at index 0\n",
        "    \n",
        "    return data"
      ]
    },
    {
      "cell_type": "code",
      "execution_count": 2,
      "metadata": {
        "id": "NumxM63KBuaC"
      },
      "outputs": [],
      "source": [
        "\"\"\"Entry point of the program.\"\"\"\n",
        "# Instantiate the data problem.\n",
        "data = create_data_model(500, 200, 4)"
      ]
    },
    {
      "cell_type": "code",
      "execution_count": 3,
      "metadata": {
        "id": "W270bz7PICxb"
      },
      "outputs": [],
      "source": [
        "data['initial_routes'] = [[43, 176, 63, 40, 135, 99, 7, 12, 136, 118, 97, 28, 189, 164, 31, 182, 39, 139, 50, 115, 55, 27, 195, 48, 113, 77, 51, 109, 64, 194, 184, 15, 9, 105, 76, 133, 196, 191, 143, 151, 110, 171, 116, 100, 46, 168, 61, 102, 112, 120, 33, 124, 169], [96, 170, 65, 123, 70, 132, 193, 186, 117, 163], [90, 91, 103, 198, 197, 72, 2, 71, 128, 54, 157, 155, 52, 188, 6, 79, 23, 94, 49, 83, 181, 144, 146, 142, 174, 162, 45, 101, 147, 32, 114, 140, 53, 37, 159, 16, 11, 85, 199, 121, 80, 160, 167, 81, 56, 87, 69, 153, 68, 165, 74, 92, 60, 138, 150, 41, 19, 172, 75, 129, 84, 14, 17, 156, 20], [185, 1, 38, 22, 25, 190, 8, 10, 24, 58, 183, 47, 148, 104, 21, 175, 134, 95, 30, 177, 187, 126, 106, 73, 179, 62, 86, 98, 127, 180, 34, 158, 4, 107, 89, 36, 141, 42, 178, 161, 13, 18, 131, 82, 119, 66, 154, 192, 108, 78, 57, 149, 130, 35, 122, 145, 5, 44, 152, 93, 3, 111, 166, 59, 67, 125, 173, 88, 29, 137, 26]]"
      ]
    },
    {
      "cell_type": "code",
      "execution_count": 4,
      "metadata": {
        "colab": {
          "base_uri": "https://localhost:8080/"
        },
        "id": "TfrUwq9l92Ll",
        "outputId": "f9de973f-2dd1-4ff7-ddbb-d4e32ab2f2ea"
      },
      "outputs": [
        {
          "name": "stdout",
          "output_type": "stream",
          "text": [
            "Solution after search:\n",
            "Objective: 314670\n",
            "Route for vehicle 0:\n",
            " 0 ->  36 ->  80 ->  9 ->  55 ->  95 ->  124 ->  188 ->  30 ->  147 ->  44 ->  29 ->  133 ->  73 ->  169 ->  53 ->  10 ->  71 ->  162 ->  118 ->  115 ->  119 ->  102 ->  21 ->  183 ->  6 ->  26 ->  164 ->  174 ->  138 ->  168 ->  120 ->  25 ->  99 ->  75 ->  22 ->  88 ->  97 ->  2 ->  197 ->  101 ->  16 ->  61 ->  161 ->  70 ->  105 ->  113 ->  33 ->  107 ->  175 ->  117 ->  67 ->  31 ->  160 ->  57 ->  72 ->  38 ->  129 ->  14 ->  114 -> 0\n",
            "Distance of the route: 3050m\n",
            "\n",
            "Route for vehicle 1:\n",
            " 0 ->  158 ->  11 ->  151 ->  127 ->  140 -> 0\n",
            "Distance of the route: 584m\n",
            "\n",
            "Route for vehicle 2:\n",
            " 0 ->  108 ->  79 ->  63 ->  184 ->  135 ->  191 ->  173 ->  172 ->  19 ->  91 ->  84 ->  180 ->  154 ->  145 ->  60 ->  116 ->  193 ->  58 ->  69 ->  35 ->  112 ->  104 ->  199 ->  157 ->  143 ->  194 ->  178 ->  76 ->  96 ->  27 ->  136 ->  167 ->  94 ->  155 ->  195 ->  51 ->  196 ->  59 ->  52 ->  130 ->  146 ->  42 ->  128 ->  78 ->  23 ->  32 ->  125 ->  98 ->  47 ->  15 ->  13 ->  4 ->  77 ->  141 ->  5 ->  170 ->  62 ->  165 ->  198 ->  17 ->  187 -> 0\n",
            "Distance of the route: 2990m\n",
            "\n",
            "Route for vehicle 3:\n",
            " 0 ->  123 ->  166 ->  74 ->  81 ->  131 ->  50 ->  122 ->  181 ->  144 ->  110 ->  43 ->  103 ->  192 ->  156 ->  177 ->  149 ->  153 ->  12 ->  86 ->  3 ->  92 ->  8 ->  45 ->  82 ->  68 ->  64 ->  20 ->  100 ->  37 ->  18 ->  66 ->  134 ->  90 ->  176 ->  182 ->  28 ->  87 ->  159 ->  56 ->  48 ->  49 ->  83 ->  24 ->  41 ->  39 ->  40 ->  148 ->  1 ->  150 ->  89 ->  142 ->  186 ->  190 ->  171 ->  111 ->  163 ->  126 ->  139 ->  185 ->  65 ->  121 ->  7 ->  109 ->  85 ->  189 ->  152 ->  137 ->  34 ->  93 ->  179 ->  106 ->  132 ->  46 ->  54 -> 0\n",
            "Distance of the route: 3046m\n",
            "\n",
            "Maximum of the route distances: 3050m\n",
            "[[36, 80, 9, 55, 95, 124, 188, 30, 147, 44, 29, 133, 73, 169, 53, 10, 71, 162, 118, 115, 119, 102, 21, 183, 6, 26, 164, 174, 138, 168, 120, 25, 99, 75, 22, 88, 97, 2, 197, 101, 16, 61, 161, 70, 105, 113, 33, 107, 175, 117, 67, 31, 160, 57, 72, 38, 129, 14, 114], [158, 11, 151, 127, 140], [108, 79, 63, 184, 135, 191, 173, 172, 19, 91, 84, 180, 154, 145, 60, 116, 193, 58, 69, 35, 112, 104, 199, 157, 143, 194, 178, 76, 96, 27, 136, 167, 94, 155, 195, 51, 196, 59, 52, 130, 146, 42, 128, 78, 23, 32, 125, 98, 47, 15, 13, 4, 77, 141, 5, 170, 62, 165, 198, 17, 187], [123, 166, 74, 81, 131, 50, 122, 181, 144, 110, 43, 103, 192, 156, 177, 149, 153, 12, 86, 3, 92, 8, 45, 82, 68, 64, 20, 100, 37, 18, 66, 134, 90, 176, 182, 28, 87, 159, 56, 48, 49, 83, 24, 41, 39, 40, 148, 1, 150, 89, 142, 186, 190, 171, 111, 163, 126, 139, 185, 65, 121, 7, 109, 85, 189, 152, 137, 34, 93, 179, 106, 132, 46, 54]]\n",
            "Total time taken: 10.022243022918701\n"
          ]
        }
      ],
      "source": [
        "\"\"\"Vehicles Routing Problem (VRP).\"\"\"\n",
        "\n",
        "from ortools.constraint_solver import routing_enums_pb2\n",
        "from ortools.constraint_solver import pywrapcp\n",
        "\n",
        "\n",
        "def print_solution(data, manager, routing, solution):\n",
        "    \"\"\"Prints solution on console.\"\"\"\n",
        "    print(f'Objective: {solution.ObjectiveValue()}')\n",
        "    max_route_distance = 0\n",
        "    for vehicle_id in range(data['num_vehicles']):\n",
        "        index = routing.Start(vehicle_id)\n",
        "        plan_output = 'Route for vehicle {}:\\n'.format(vehicle_id)\n",
        "        route_distance = 0\n",
        "        while not routing.IsEnd(index):\n",
        "            plan_output += ' {} -> '.format(manager.IndexToNode(index))\n",
        "            previous_index = index\n",
        "            index = solution.Value(routing.NextVar(index))\n",
        "            route_distance += routing.GetArcCostForVehicle(\n",
        "                previous_index, index, vehicle_id)\n",
        "        plan_output += '{}\\n'.format(manager.IndexToNode(index))\n",
        "        plan_output += 'Distance of the route: {}m\\n'.format(route_distance)\n",
        "        print(plan_output)\n",
        "        max_route_distance = max(route_distance, max_route_distance)\n",
        "    print('Maximum of the route distances: {}m'.format(max_route_distance))\n",
        "\n",
        "def convert_to_initial_solution(solution, manager, routing):\n",
        "    initial_routes = []\n",
        "    for vehicle_id in range(data['num_vehicles']):\n",
        "        index = routing.Start(vehicle_id)\n",
        "        route = []\n",
        "        while not routing.IsEnd(index):\n",
        "            node_index = manager.IndexToNode(index)\n",
        "            if node_index != 0:\n",
        "                route.append(node_index)\n",
        "            index = solution.Value(routing.NextVar(index))\n",
        "        initial_routes.append(route)\n",
        "    return initial_routes\n",
        "\n",
        "def main():\n",
        "    \"\"\"Solve the CVRP problem.\"\"\"\n",
        "\n",
        "    # Create the routing index manager.\n",
        "    manager = pywrapcp.RoutingIndexManager(len(data['distance_matrix']),\n",
        "                                           data['num_vehicles'], data['depot'])\n",
        "\n",
        "    # Create Routing Model.\n",
        "    routing = pywrapcp.RoutingModel(manager)\n",
        "\n",
        "\n",
        "    # Create and register a transit callback.\n",
        "    def distance_callback(from_index, to_index):\n",
        "        \"\"\"Returns the distance between the two nodes.\"\"\"\n",
        "        # Convert from routing variable Index to distance matrix NodeIndex.\n",
        "        from_node = manager.IndexToNode(from_index)\n",
        "        to_node = manager.IndexToNode(to_index)\n",
        "        return data['distance_matrix'][from_node][to_node]\n",
        "\n",
        "    transit_callback_index = routing.RegisterTransitCallback(distance_callback)\n",
        "\n",
        "    # Define cost of each arc.\n",
        "    routing.SetArcCostEvaluatorOfAllVehicles(transit_callback_index)\n",
        "\n",
        "    # Add Distance constraint.\n",
        "    dimension_name = 'Distance'\n",
        "    routing.AddDimension(\n",
        "        transit_callback_index,\n",
        "        0,  # no slack\n",
        "        5000,  # vehicle maximum travel distance\n",
        "        True,  # start cumul to zero\n",
        "        dimension_name)\n",
        "    distance_dimension = routing.GetDimensionOrDie(dimension_name)\n",
        "    distance_dimension.SetGlobalSpanCostCoefficient(100)\n",
        "\n",
        "    # Close model with the custom search parameters.\n",
        "    search_parameters = pywrapcp.DefaultRoutingSearchParameters()\n",
        "    search_parameters.first_solution_strategy = (\n",
        "        routing_enums_pb2.FirstSolutionStrategy.PATH_CHEAPEST_ARC)\n",
        "    search_parameters.local_search_metaheuristic = (\n",
        "        routing_enums_pb2.LocalSearchMetaheuristic.GUIDED_LOCAL_SEARCH)\n",
        "    search_parameters.time_limit.FromSeconds(10)\n",
        "    # When an initial solution is given for search, the model will be closed with the default\n",
        "    # search parameters unless it is explicitly closed with the custom search parameters.\n",
        "    routing.CloseModelWithParameters(search_parameters)\n",
        "\n",
        "    # Get initial solution from routes after closing the model.\n",
        "    initial_solution = routing.ReadAssignmentFromRoutes(data['initial_routes'], True)\n",
        "\n",
        "    # Solve the problem.\n",
        "    solution = routing.SolveFromAssignmentWithParameters(\n",
        "        initial_solution, search_parameters)\n",
        "\n",
        "    # Print solution on console.\n",
        "    if solution:\n",
        "        print('Solution after search:')\n",
        "        print_solution(data, manager, routing, solution)\n",
        "\n",
        "        print(convert_to_initial_solution(solution, manager, routing))\n",
        "\n",
        "import time\n",
        "\n",
        "if __name__ == '__main__':\n",
        "    start = time.time()\n",
        "    main()\n",
        "    print(\"Total time taken:\", time.time()-start)"
      ]
    },
    {
      "cell_type": "code",
      "execution_count": 5,
      "metadata": {
        "id": "E2z2cS9DEpIh"
      },
      "outputs": [],
      "source": [
        "# 346600\n",
        "# 326462\n",
        "# 310544"
      ]
    },
    {
      "cell_type": "code",
      "execution_count": null,
      "metadata": {
        "id": "gPZ6-PWkHbUO"
      },
      "outputs": [],
      "source": []
    }
  ],
  "metadata": {
    "colab": {
      "provenance": []
    },
    "kernelspec": {
      "display_name": "Python 3",
      "name": "python3"
    },
    "language_info": {
      "codemirror_mode": {
        "name": "ipython",
        "version": 3
      },
      "file_extension": ".py",
      "mimetype": "text/x-python",
      "name": "python",
      "nbconvert_exporter": "python",
      "pygments_lexer": "ipython3",
      "version": "3.9.12"
    }
  },
  "nbformat": 4,
  "nbformat_minor": 0
}
